{
 "cells": [
  {
   "cell_type": "code",
   "execution_count": null,
   "metadata": {},
   "outputs": [],
   "source": [
    "import os\n",
    "if os.getcwd().endswith('gfs_functions'):\n",
    "    print(os.getcwd())\n",
    "else:\n",
    "    os.chdir(os.path.abspath(os.path.join(os.getcwd(), \"..\")))\n",
    "    print(os.getcwd())\n",
    "\n",
    "import pyreadstat\n",
    "import numpy as np\n",
    "import pandas as pd\n",
    "import textwrap as tr\n",
    "import plotly.graph_objects as go\n",
    "from functions import (\n",
    "    start_presentation, create_stacked_barchart, create_barchart, save_presentation, add_text_slide,\n",
    "    show_param_as_title, get_google_docstring, add_parameter_text_slide, show_summary, show_stats)\n",
    "from pptx import Presentation\n",
    "\n",
    "import warnings\n",
    "warnings.filterwarnings(\"ignore\")"
   ]
  },
  {
   "cell_type": "code",
   "execution_count": null,
   "metadata": {},
   "outputs": [],
   "source": [
    "df, meta = pyreadstat.read_sav('data/fertig_R_Omnibus_ZH.sav')\n",
    "df_2, meta_2 = pyreadstat.read_sav('data/fertig_R_GVZ.sav')\n",
    "info = start_presentation('my_presentation', df, meta, color_theme=\"new_2\")\n"
   ]
  },
  {
   "cell_type": "code",
   "execution_count": null,
   "metadata": {},
   "outputs": [],
   "source": [
    "\n",
    "create_stacked_barchart(\n",
    "    info,\n",
    "    ['AW2'],\n",
    "    ['alter_break'],\n",
    "    show_mean=True,\n",
    ")"
   ]
  },
  {
   "cell_type": "code",
   "execution_count": null,
   "metadata": {},
   "outputs": [],
   "source": [
    "create_barchart(\n",
    "    info,\n",
    "    ['AW2'],\n",
    "    ['alter_break'],\n",
    "    show_mean=True,\n",
    "    order_by={'index': 'asc'}\n",
    ")"
   ]
  },
  {
   "cell_type": "code",
   "execution_count": null,
   "metadata": {},
   "outputs": [],
   "source": [
    "save_presentation(info)"
   ]
  },
  {
   "cell_type": "code",
   "execution_count": null,
   "metadata": {},
   "outputs": [],
   "source": []
  }
 ],
 "metadata": {
  "kernelspec": {
   "display_name": "gfs_functions-No-J0RA2",
   "language": "python",
   "name": "python3"
  },
  "language_info": {
   "codemirror_mode": {
    "name": "ipython",
    "version": 3
   },
   "file_extension": ".py",
   "mimetype": "text/x-python",
   "name": "python",
   "nbconvert_exporter": "python",
   "pygments_lexer": "ipython3",
   "version": "3.10.3"
  }
 },
 "nbformat": 4,
 "nbformat_minor": 2
}
